{
 "cells": [
  {
   "cell_type": "code",
   "execution_count": null,
   "id": "8d4793de-44eb-4d73-b292-2e142625a091",
   "metadata": {},
   "outputs": [],
   "source": [
    "import pandas as pd\n",
    "\n",
    "# Laden der originalen CSV-Datei\n",
    "file_path = 'train.csv'\n",
    "data = pd.read_csv(file_path, index_col=\"Id\")\n",
    "# Laden der neu bearbeiteten CSV-Datei\n",
    "file_path_neu = 'train_bearbeitet.csv'\n",
    "data_neu = pd.read_csv(file_path, index_col=\"Id\")\n"
   ]
  },
  {
   "cell_type": "code",
   "execution_count": 5,
   "id": "52581ed6-cfe2-4a10-9ebb-d899bf3a8e78",
   "metadata": {},
   "outputs": [],
   "source": [
    "def pruefe_nicht_erwartete_werte(data, beschreibungsdaten):\n",
    "    for spaltenname in beschreibungsdaten.keys():\n",
    "        if 'Werte' in beschreibungsdaten[spaltenname]:\n",
    "            # Erwartete Werte für die Spalte extrahieren\n",
    "            erwartete_werte = list(beschreibungsdaten[spaltenname]['Werte'].keys())\n",
    "            # Überprüfen, ob alle Werte der Spalte in der Liste der erwarteten Werte enthalten sind\n",
    "            nicht_erwartete_werte = data[spaltenname][~data[spaltenname].isin(erwartete_werte)].unique()\n",
    "            # Ausgeben, wenn nicht erwartete Werte gefunden wurden\n",
    "            if len(nicht_erwartete_werte) > 0:\n",
    "                print(f'Nicht erwartete Werte in {spaltenname}:', nicht_erwartete_werte)\n"
   ]
  },
  {
   "cell_type": "code",
   "execution_count": 6,
   "id": "f0fa481a-5188-41b3-98c1-43f8b4344ac9",
   "metadata": {},
   "outputs": [],
   "source": [
    "import json \n",
    "# Laden der Beschreibungsdatei\n",
    "beschreibungsdatei_pfad = 'data_description_bearbeitet.json'  \n",
    "with open(beschreibungsdatei_pfad, 'r') as file:\n",
    "    beschreibungsdaten = json.load(file)"
   ]
  },
  {
   "cell_type": "code",
   "execution_count": 7,
   "id": "757e23f1-efdb-439b-aaa6-b38e8945a6ae",
   "metadata": {},
   "outputs": [
    {
     "name": "stdout",
     "output_type": "stream",
     "text": [
      "Nicht erwartete Werte in Wohngebiet: [nan 'G (alle)']\n",
      "Nicht erwartete Werte in Nachbarschaft: ['Höchst']\n",
      "Nicht erwartete Werte in Wohnungsklasse: [ 20  50  60  70 190 120  80  85  90  75  30 160  45  40 180 150]\n",
      "Nicht erwartete Werte in Gebauedetyp: ['2famU' 'DoppH' 'StHau']\n",
      "Nicht erwartete Werte in Hausqualitaet: [ 3  5  6  8  4  9  7 10  2  1]\n",
      "Nicht erwartete Werte in Hauszustand: [3 5 7 6 8 4 9 1 2]\n",
      "Nicht erwartete Werte in Versorgung: [nan]\n",
      "Nicht erwartete Werte in Zufahrtsweg: [nan]\n",
      "Nicht erwartete Werte in Mauerwerktyp: [nan]\n",
      "Nicht erwartete Werte in Verkleidung2: ['ZiegAll' 'HlzSch' 'ZementPl']\n",
      "Nicht erwartete Werte in Funktionalitaet: [nan]\n",
      "Nicht erwartete Werte in KuechenQualitaet: [nan]\n",
      "Nicht erwartete Werte in Elektrik: [nan]\n",
      "Nicht erwartete Werte in Verkaufstyp: [nan]\n"
     ]
    }
   ],
   "source": [
    "pruefe_nicht_erwartete_werte(data_neu, beschreibungsdaten)"
   ]
  },
  {
   "cell_type": "code",
   "execution_count": 8,
   "id": "cc020548-5321-4d61-8654-746e247cb41b",
   "metadata": {},
   "outputs": [
    {
     "name": "stdout",
     "output_type": "stream",
     "text": [
      "Gebauedetyp: {'Beschreibung': 'Bauart der Wohnung', 'Werte': {'1Fam': 'Einfamilienhaus Freistehend', '2FamU': 'Zwei-Familien-Umbau, ursprÃ¼nglich als Einfamilienhaus gebaut', 'DopH': 'Doppelhaus', 'StHAb': 'Stadthaus Abschlusseinheit', 'StHIn': 'Stadthaus Inneneinheit'}}\n",
      "\n",
      "\n",
      "Verkleidung2: {'Beschreibung': 'AuÃŸenverkleidung am Haus (wenn mehr als ein Material)', 'Werte': {'AsbeSch': 'Asbest-Schindeln', 'AsphSch': 'Asphalt-Schindeln', 'ZiegAlg': 'Ziegel allgemein', 'ZiegGla': 'Ziegel glatt', 'BetonSt': 'Betonstein', 'Zement': 'Zementplatte', 'Hartfas': 'Hartfaserplatte', 'StuckIm': 'Stuck-Imitation', 'Metall': 'Metallverkleidung', 'Andere': 'Andere', 'Sperrho': 'Sperrholz', 'Vorguss': 'Vorgussteile', 'Stein': 'Stein', 'Stuck': 'Stuck', 'Vinyl': 'Vinyl-Verkleidung', 'Holz': 'Holzverkleidung', 'HolzSch': 'Holzschindeln'}}\n",
      "\n",
      "\n",
      "Nachbarschaft: {'Beschreibung': 'Lage innerhalb der Stadtgrenzen von Frankfurt', 'Werte': {'Oberrad': 'Oberrad', 'Berkers': 'Berkersheim', 'Bockenh': 'Bockenheim', 'Bornhei': 'Bornheim', 'Dornbus': 'Dornbusch', 'Hochsch': 'Hochschule', 'Eckenhe': 'Eckenheim', 'Gallus': 'Gallus', 'Ginnhei': 'Ginnheim', 'Eisenba': 'Eisenbahn', 'Wiesend': 'Wiesendorf', 'Hausen': 'Hausen', 'HÃ¶chst': 'HÃ¶chst', 'Kalbach': 'Kalbach', 'Flughaf': 'Flughafen', 'Nied': 'Nied', 'Nordend': 'Nordend', 'Altstad': 'Altstadt', 'Riederw': 'Riederwald', 'Sachsen': 'Sachsenhausen', 'Westend': 'Westend', 'Schwanh': 'Schwanheim', 'Sindlin': 'Sindlingen', 'Sossenh': 'Sossenheim', 'Zeilshe': 'Zeilsheim'}}\n",
      "\n",
      "\n",
      "Wohngebiet: {'Beschreibung': 'Klassifizierung des Wohngebiets des Verkaufsobjekts', 'Werte': {'L': 'Landwirtschaft', 'G': 'Gewerblich', 'D': 'Dorf', 'I': 'Industrie', 'WH': 'Wohngebiet mit hoher Dichte', 'WN': 'Wohngebiet mit niedriger Dichte', 'WP': 'Wohnpark mit hoher Dichte', 'WM': 'Wohngebiet mit mittlerer Dichte', 'Unbekannt': 'Unbekannt'}}\n",
      "\n",
      "\n"
     ]
    }
   ],
   "source": [
    "# Hausqualität und -zustand, Wohnungsklasse: Vergleich wegen dem Datentyp nicht erfolgreich, Höchst wurde nicht richtig ausgegeben\n",
    "# Ausdrucken der vollständigen Struktur für ausgewählte Spalten\n",
    "spalten_zu_pruefen = ['Gebauedetyp', 'Verkleidung2','Nachbarschaft', 'Wohngebiet', ]\n",
    "\n",
    "for spalte in spalten_zu_pruefen:\n",
    "    print(f'{spalte}: {beschreibungsdaten[spalte]}')\n",
    "    print(\"\\n\")  "
   ]
  },
  {
   "cell_type": "code",
   "execution_count": 6,
   "id": "e276e689-a36a-437d-afe5-5751dcd6d5ae",
   "metadata": {},
   "outputs": [],
   "source": [
    "#Schreibfehler anpassen\n",
    "data_neu['Gebauedetyp'].replace({'2famU': '2FamU'}, inplace=True)\n",
    "data_neu['Gebauedetyp'].replace({'DoppH': 'DopH'}, inplace=True)\n",
    "data_neu['Gebauedetyp'].replace({'StHau': 'StHAb'}, inplace=True)\n",
    "data_neu['Verkleidung2'].replace({'ZiegAll': 'ZiegAlg'}, inplace=True)\n",
    "data_neu['Verkleidung2'].replace({'HlzSch': 'HolzSch'}, inplace=True)\n",
    "data_neu['Verkleidung2'].replace({'ZementPl': 'Zement'}, inplace=True)\n",
    "data_neu['Wohngebiet'].replace({'G (alle)': 'G'}, inplace=True)\n",
    "# Änderungen speichern\n",
    "data_neu.to_csv(file_path_neu, index=False)"
   ]
  },
  {
   "cell_type": "code",
   "execution_count": 7,
   "id": "c6613689-0f16-4fcb-8507-6e988a8b03eb",
   "metadata": {},
   "outputs": [
    {
     "name": "stdout",
     "output_type": "stream",
     "text": [
      "Nicht erwartete Werte in Wohngebiet: [nan]\n",
      "Nicht erwartete Werte in Nachbarschaft: ['Höchst']\n",
      "Nicht erwartete Werte in Wohnungsklasse: [ 20  50  60  70 190 120  80  85  90  75  30 160  45  40 180 150]\n",
      "Nicht erwartete Werte in Hausqualitaet: [ 3  5  6  8  4  9  7 10  2  1]\n",
      "Nicht erwartete Werte in Hauszustand: [3 5 7 6 8 4 9 1 2]\n",
      "Nicht erwartete Werte in Versorgung: [nan]\n",
      "Nicht erwartete Werte in Zufahrtsweg: [nan]\n",
      "Nicht erwartete Werte in Mauerwerktyp: [nan]\n",
      "Nicht erwartete Werte in Funktionalitaet: [nan]\n",
      "Nicht erwartete Werte in KuechenQualitaet: [nan]\n",
      "Nicht erwartete Werte in Elektrik: [nan]\n",
      "Nicht erwartete Werte in Verkaufstyp: [nan]\n"
     ]
    }
   ],
   "source": [
    "#Überprüfen\n",
    "pruefe_nicht_erwartete_werte(data_neu, beschreibungsdaten)"
   ]
  },
  {
   "cell_type": "code",
   "execution_count": 8,
   "id": "9debc930-6381-4eef-9d8d-516fd40436d5",
   "metadata": {},
   "outputs": [
    {
     "name": "stdout",
     "output_type": "stream",
     "text": [
      "Nicht erwartete Werte in Wohngebiet: [nan 'G (alle)']\n",
      "Nicht erwartete Werte in Nachbarschaft: ['Höchst']\n",
      "Nicht erwartete Werte in Wohnungsklasse: [ 20  50  60  70 190 120  80  85  90  75  30 160  45  40 180 150]\n",
      "Nicht erwartete Werte in Gebauedetyp: ['2famU' 'DoppH' 'StHau']\n",
      "Nicht erwartete Werte in Hausqualitaet: [ 3  5  6  8  4  9  7 10  2  1]\n",
      "Nicht erwartete Werte in Hauszustand: [3 5 7 6 8 4 9 1 2]\n",
      "Nicht erwartete Werte in Versorgung: [nan]\n",
      "Nicht erwartete Werte in Zufahrtsweg: [nan]\n",
      "Nicht erwartete Werte in Mauerwerktyp: [nan]\n",
      "Nicht erwartete Werte in Verkleidung2: ['ZiegAll' 'HlzSch' 'ZementPl']\n",
      "Nicht erwartete Werte in Funktionalitaet: [nan]\n",
      "Nicht erwartete Werte in KuechenQualitaet: [nan]\n",
      "Nicht erwartete Werte in Elektrik: [nan]\n",
      "Nicht erwartete Werte in Verkaufstyp: [nan]\n"
     ]
    }
   ],
   "source": [
    "#Vergleich mit der alten Datei\n",
    "pruefe_nicht_erwartete_werte(data, beschreibungsdaten)"
   ]
  },
  {
   "cell_type": "code",
   "execution_count": 9,
   "id": "d01ef66f-b9f2-4d64-890e-8f9ba6553207",
   "metadata": {},
   "outputs": [],
   "source": [
    "def berechne_und_zeige_fehlende_werte(data):\n",
    "    # Berechnung der Anzahl der fehlenden Werte in jeder Spalte\n",
    "    fehlende_werte = data.isnull().sum()\n",
    "\n",
    "    # Filtern der Spalten, in denen fehlende Werte vorhanden sind\n",
    "    fehlende_werte_df = pd.DataFrame({'Anzahl Fehlende Werte': fehlende_werte})\n",
    "    fehlende_werte_df = fehlende_werte_df[fehlende_werte_df['Anzahl Fehlende Werte'] > 0]\n",
    "\n",
    "    # Sortieren der Liste der fehlenden Werte\n",
    "    fehlende_werte_sortiert = fehlende_werte_df.sort_values(by='Anzahl Fehlende Werte', ascending=False)\n",
    "\n",
    "    # Anzeigen der sortierten Liste\n",
    "    print(fehlende_werte_sortiert)"
   ]
  },
  {
   "cell_type": "code",
   "execution_count": 10,
   "id": "d260b2c3-f42d-479b-859d-f4bd00b08464",
   "metadata": {},
   "outputs": [
    {
     "name": "stdout",
     "output_type": "stream",
     "text": [
      "                         Anzahl Fehlende Werte\n",
      "Zufahrtsweg                               1868\n",
      "Strassenlaenge                             338\n",
      "Garagenbaujahr                             108\n",
      "Mauerwerktyp                                14\n",
      "Mauerwerkflaeche                            14\n",
      "Wohngebiet                                   3\n",
      "Versorgung                                   2\n",
      "KellerVollbadezimmer                         2\n",
      "KellerHalbbadezimmer                         2\n",
      "Funktionalitaet                              2\n",
      "Elektrik                                     1\n",
      "Garagenflaeche                               1\n",
      "Garagenautos                                 1\n",
      "KellerbereichgroesseGes                      1\n",
      "KuechenQualitaet                             1\n",
      "KellerbereichgroesseNAu                      1\n",
      "Kellerbereichgroesse2                        1\n",
      "Kellerbereichgroesse1                        1\n",
      "Verkaufstyp                                  1\n"
     ]
    }
   ],
   "source": [
    "berechne_und_zeige_fehlende_werte(data_neu)"
   ]
  },
  {
   "cell_type": "code",
   "execution_count": 11,
   "id": "3029db3c-155e-4803-8b46-2206685f35c8",
   "metadata": {},
   "outputs": [
    {
     "name": "stdout",
     "output_type": "stream",
     "text": [
      "Index(['Wohngebiet', 'Nachbarschaft', 'Bedingung1', 'Bedingung2',\n",
      "       'Wohnungsklasse', 'Gebauedetyp', 'Wohnungsstil', 'Baujahr', 'Umbaujahr',\n",
      "       'Hausqualitaet', 'Hauszustand', 'Versorgung', 'Grundstuecksgroesse',\n",
      "       'Grundstuecksform', 'Gelaendekontur', 'Gelaendeneigung',\n",
      "       'Grundstueckanordnung', 'Strassenlaenge', 'Strassentyp', 'Fundament',\n",
      "       'Mauerwerktyp', 'Mauerwerkflaeche', 'Verkleidung1', 'Verkleidung2',\n",
      "       'Dachtyp', 'Dachmeterial', 'Aussenmaterialqualitaet',\n",
      "       'Aussenmaterialzustand', 'Kellerhoehe', 'Kellerzustand',\n",
      "       'Kellerbelichtung', 'Kellerbereich1', 'Kellerbereichgroesse1',\n",
      "       'Kellerbereich2', 'Kellerbereichgroesse2', 'KellerbereichgroesseNAu',\n",
      "       'KellerbereichgroesseGes', 'KellerVollbadezimmer',\n",
      "       'KellerHalbbadezimmer', 'OberirdischeWohnflaeche', '1Stockflaeche',\n",
      "       '2Stockflaeche', 'GeringequalitaetFlaeche', 'OberirdischeRaueme',\n",
      "       'Funktionalitaet', 'OberirdischeVollbadezimmer',\n",
      "       'OberirdischeHalbbadezimmer', 'Schlafzimmer', 'Kuechen',\n",
      "       'KuechenQualitaet', 'Kamine', 'Kaminqualitaet', 'Heizung',\n",
      "       'Heizungsqualitaet', 'Klimalanlage', 'Elektrik', 'Holzdeckflaeche',\n",
      "       'OffeneVerandaflaeche', 'GeschlosseneVerandaflaeche',\n",
      "       '3JahreszeitenVerandaflaeche', 'AbgeschirmteVerandaflaeche',\n",
      "       'Poolflaeche', 'Poolqualitaet', 'Zaunqualitaet', 'Garagentyp',\n",
      "       'Garagenbaujahr', 'Garageninnenausbau', 'Garagenautos',\n",
      "       'Garagenflaeche', 'Garagenqualitaet', 'Garagenzustand',\n",
      "       'EinfahrtGepflastert', 'Sondermerkmal', 'SondermerkmalWert',\n",
      "       'Verkaufsmonat', 'Verkaufsjahr', 'Verkaufstyp', 'Verkaufsbedingung',\n",
      "       'Verkaufspreis'],\n",
      "      dtype='object')\n"
     ]
    }
   ],
   "source": [
    "#Von 2000 Zeilen sind 1868 leer --> entfernen\n",
    "data_neu = data_neu.drop(columns=['Zufahrtsweg'])\n",
    "data_neu.to_csv(file_path_neu, index=False)\n",
    "print(data_neu.columns)"
   ]
  },
  {
   "cell_type": "code",
   "execution_count": 12,
   "id": "010cc52c-cb99-452f-90d9-8255fab4e152",
   "metadata": {},
   "outputs": [],
   "source": [
    "def ersetze_fehlende_werte(data, spaltenname, ersatzwert, dateipfad):\n",
    "    # Ersetzen der fehlenden Werte\n",
    "    data[spaltenname].fillna(ersatzwert, inplace=True)"
   ]
  },
  {
   "cell_type": "code",
   "execution_count": 13,
   "id": "587c6bf2-1ff1-4d81-9bc9-5b99f56642f9",
   "metadata": {},
   "outputs": [
    {
     "name": "stdout",
     "output_type": "stream",
     "text": [
      "Anzahl der Zeilen mit fehlendem 'Garagenbaujahr' und 'KeineGarage': 108\n"
     ]
    }
   ],
   "source": [
    "# Überprüfung für Garagenbaujahr\n",
    "garagen_spalten = ['Garagentyp', 'Garagenqualitaet', 'Garagenzustand', 'Garagenflaeche', 'Garagenautos']\n",
    "# Filter für fehlendes Garagenbaujahr und 'KeineGarage' in anderen Garagenspalten\n",
    "bedingung = data_neu['Garagenbaujahr'].isnull() & data_neu[garagen_spalten].eq('KeineGarage').any(axis=1) \n",
    "# Zählen der Zeilen, die die Bedingung erfüllen\n",
    "anzahl = data_neu[bedingung].shape[0]\n",
    "print(f\"Anzahl der Zeilen mit fehlendem 'Garagenbaujahr' und 'KeineGarage': {anzahl}\")"
   ]
  },
  {
   "cell_type": "code",
   "execution_count": 14,
   "id": "53ea188e-b86a-43ec-9e8d-5275417c3aed",
   "metadata": {},
   "outputs": [],
   "source": [
    "# Ersetzen der fehlenden Werte in 'Garagenbaujahr' mit 0\n",
    "ersetze_fehlende_werte(data_neu, 'Garagenbaujahr', 0, file_path_neu)"
   ]
  },
  {
   "cell_type": "code",
   "execution_count": 15,
   "id": "21d83883-694b-4657-81ef-b44b16c5dc90",
   "metadata": {},
   "outputs": [
    {
     "name": "stdout",
     "output_type": "stream",
     "text": [
      "                         Anzahl Fehlende Werte\n",
      "Strassenlaenge                             338\n",
      "Mauerwerktyp                                14\n",
      "Mauerwerkflaeche                            14\n",
      "Wohngebiet                                   3\n",
      "Versorgung                                   2\n",
      "KellerVollbadezimmer                         2\n",
      "KellerHalbbadezimmer                         2\n",
      "Funktionalitaet                              2\n",
      "KuechenQualitaet                             1\n",
      "Garagenflaeche                               1\n",
      "Garagenautos                                 1\n",
      "Elektrik                                     1\n",
      "KellerbereichgroesseGes                      1\n",
      "KellerbereichgroesseNAu                      1\n",
      "Kellerbereichgroesse2                        1\n",
      "Kellerbereichgroesse1                        1\n",
      "Verkaufstyp                                  1\n"
     ]
    }
   ],
   "source": [
    "berechne_und_zeige_fehlende_werte(data_neu)"
   ]
  },
  {
   "cell_type": "code",
   "execution_count": 16,
   "id": "e4c7df23-e8e6-44bc-a397-c7f970622a2b",
   "metadata": {},
   "outputs": [
    {
     "name": "stdout",
     "output_type": "stream",
     "text": [
      "Anzahl der Zeilen mit fehlendem 'Mauerwerktyp' und 'Mauerwerkflaeche' als 'Kein': 0\n"
     ]
    }
   ],
   "source": [
    "# Bedingung für fehlenden Mauerwerkflaeche und 'Kein' in Mauerwerktyp\n",
    "bedingung = data_neu['Mauerwerkflaeche'].isnull() & (data_neu['Mauerwerktyp'] == 'Kein')\n",
    "# Zählen der Zeilen, die die Bedingung erfüllen\n",
    "anzahl = data_neu[bedingung].shape[0]\n",
    "print(f\"Anzahl der Zeilen mit fehlendem 'Mauerwerktyp' und 'Mauerwerkflaeche' als 'Kein': {anzahl}\")"
   ]
  },
  {
   "cell_type": "code",
   "execution_count": 17,
   "id": "979e6632-f58f-480c-941a-fb84f2caf5ea",
   "metadata": {},
   "outputs": [
    {
     "name": "stdout",
     "output_type": "stream",
     "text": [
      "14\n"
     ]
    }
   ],
   "source": [
    "# Bedingung für fehlenden Mauerwerktyp und Mauerwerkflaeche\n",
    "bedingung = data_neu['Mauerwerktyp'].isnull() & (data_neu['Mauerwerkflaeche'].isnull())\n",
    "# Zählen der Zeilen, die die Bedingung erfüllen\n",
    "zeilen_mit_bedigung = data_neu[bedingung][['Mauerwerktyp', 'Mauerwerkflaeche']].shape[0]\n",
    "print(zeilen_mit_bedigung)"
   ]
  },
  {
   "cell_type": "code",
   "execution_count": 18,
   "id": "3d8a32a5-7f20-447d-b586-f36209bb52b8",
   "metadata": {},
   "outputs": [
    {
     "name": "stdout",
     "output_type": "stream",
     "text": [
      "     Mauerwerktyp  Mauerwerkflaeche\n",
      "Id                                 \n",
      "1            Kein               0.0\n",
      "2            Kein               0.0\n",
      "3            Kein               0.0\n",
      "4            Kein               0.0\n",
      "5            Kein               0.0\n",
      "...           ...               ...\n",
      "1992         Kein               0.0\n",
      "1994         Kein               0.0\n",
      "1995         Kein               0.0\n",
      "1997         Kein               0.0\n",
      "1999         Kein               0.0\n",
      "\n",
      "[1188 rows x 2 columns]\n"
     ]
    }
   ],
   "source": [
    "bedingung = (data_neu['Mauerwerkflaeche'] == 0)\n",
    "spalten = ['Mauerwerktyp','Mauerwerkflaeche']\n",
    "print(data_neu[bedingung][spalten])"
   ]
  },
  {
   "cell_type": "code",
   "execution_count": 19,
   "id": "002b628c-cac2-4177-8d65-9a0480b04ccc",
   "metadata": {},
   "outputs": [],
   "source": [
    "# Ersetzen der fehlenden Werte in 'Mauerwerktyp' mit 'Unbekannt'\n",
    "ersetze_fehlende_werte(data_neu, 'Mauerwerktyp', 'Unbekannt', file_path_neu)\n",
    "# Ersetzen der fehlenden Werte in 'Mauerwerkflaeche' mit 'Unbekannt'\n",
    "ersetze_fehlende_werte(data_neu, 'Mauerwerkflaeche', -1, file_path_neu)"
   ]
  },
  {
   "cell_type": "code",
   "execution_count": 20,
   "id": "190a35bf-6f15-465e-a6ec-48e52c8ee24a",
   "metadata": {},
   "outputs": [
    {
     "name": "stdout",
     "output_type": "stream",
     "text": [
      "                         Anzahl Fehlende Werte\n",
      "Strassenlaenge                             338\n",
      "Wohngebiet                                   3\n",
      "Versorgung                                   2\n",
      "KellerVollbadezimmer                         2\n",
      "KellerHalbbadezimmer                         2\n",
      "Funktionalitaet                              2\n",
      "Kellerbereichgroesse1                        1\n",
      "Kellerbereichgroesse2                        1\n",
      "KellerbereichgroesseNAu                      1\n",
      "KellerbereichgroesseGes                      1\n",
      "KuechenQualitaet                             1\n",
      "Elektrik                                     1\n",
      "Garagenautos                                 1\n",
      "Garagenflaeche                               1\n",
      "Verkaufstyp                                  1\n"
     ]
    }
   ],
   "source": [
    "berechne_und_zeige_fehlende_werte(data_neu)"
   ]
  },
  {
   "cell_type": "code",
   "execution_count": 21,
   "id": "f1030f37-c390-4566-9ae2-90afa921b157",
   "metadata": {},
   "outputs": [
    {
     "name": "stdout",
     "output_type": "stream",
     "text": [
      "      Kellerbereichgroesse1  Kellerbereichgroesse2  KellerbereichgroesseNAu  \\\n",
      "Id                                                                            \n",
      "845                     NaN                    NaN                      NaN   \n",
      "1191                    0.0                    0.0                      0.0   \n",
      "\n",
      "      KellerbereichgroesseGes  KellerVollbadezimmer  KellerHalbbadezimmer  \n",
      "Id                                                                         \n",
      "845                       NaN                   NaN                   NaN  \n",
      "1191                      0.0                   NaN                   NaN  \n"
     ]
    }
   ],
   "source": [
    "keller_spalten_mit_fehlenden_werten=[\"Kellerbereichgroesse1\",\"Kellerbereichgroesse2\",                     \n",
    "\"KellerbereichgroesseNAu\",                   \n",
    "\"KellerbereichgroesseGes\",                   \n",
    "\"KellerVollbadezimmer\",                         \n",
    "\"KellerHalbbadezimmer\"]\n",
    "\n",
    "# Anpassen und erneut ausführen des Codes zur Überprüfung der Bedingung\n",
    "bedingung = data_neu[keller_spalten_mit_fehlenden_werten].isnull().any(axis=1) & (data_neu['Kellerhoehe'] == \"KeinKeller\")\n",
    "anzahl_zeilen_mit_bedigung = data_neu[bedingung][keller_spalten_mit_fehlenden_werten]\n",
    "print(anzahl_zeilen_mit_bedigung)"
   ]
  },
  {
   "cell_type": "code",
   "execution_count": 22,
   "id": "2121b0ab-7029-487d-85c9-975472efca92",
   "metadata": {},
   "outputs": [],
   "source": [
    "# Ersetzen der fehlenden Werte in \"Kellerbereichgroesse1\" mit 0\n",
    "ersetze_fehlende_werte(data_neu, \"Kellerbereichgroesse1\", 0, file_path_neu)\n",
    "# Ersetzen der fehlenden Werte in \"Kellerbereichgroesse2\" mit 0\n",
    "ersetze_fehlende_werte(data_neu, \"Kellerbereichgroesse2\", 0, file_path_neu)\n",
    "# Ersetzen der fehlenden Werte in \"KellerbereichgroesseNAu\" mit 0\n",
    "ersetze_fehlende_werte(data_neu, \"KellerbereichgroesseNAu\", 0, file_path_neu)\n",
    "# Ersetzen der fehlenden Werte in \"KellerbereichgroesseGes\" mit 0\n",
    "ersetze_fehlende_werte(data_neu, \"KellerbereichgroesseGes\", 0, file_path_neu)\n",
    "# Ersetzen der fehlenden Werte in \"KellerVollbadezimmer\" mit 0\n",
    "ersetze_fehlende_werte(data_neu, \"KellerVollbadezimmer\", 0, file_path_neu)\n",
    "# Ersetzen der fehlenden Werte in \"KellerHalbbadezimmer\" mit 0\n",
    "ersetze_fehlende_werte(data_neu, \"KellerHalbbadezimmer\", 0, file_path_neu)"
   ]
  },
  {
   "cell_type": "code",
   "execution_count": 23,
   "id": "6f8810e2-5e33-4c06-8872-87b248ae11b5",
   "metadata": {},
   "outputs": [
    {
     "name": "stdout",
     "output_type": "stream",
     "text": [
      "                  Anzahl Fehlende Werte\n",
      "Strassenlaenge                      338\n",
      "Wohngebiet                            3\n",
      "Versorgung                            2\n",
      "Funktionalitaet                       2\n",
      "KuechenQualitaet                      1\n",
      "Elektrik                              1\n",
      "Garagenautos                          1\n",
      "Garagenflaeche                        1\n",
      "Verkaufstyp                           1\n"
     ]
    }
   ],
   "source": [
    "berechne_und_zeige_fehlende_werte(data_neu)"
   ]
  },
  {
   "cell_type": "code",
   "execution_count": 24,
   "id": "d1df08e8-93eb-423a-b9c3-3d1e326215ad",
   "metadata": {},
   "outputs": [
    {
     "name": "stdout",
     "output_type": "stream",
     "text": [
      "    Wohngebiet Nachbarschaft Bedingung1 Bedingung2  Wohnungsklasse  \\\n",
      "Id                                                                   \n",
      "855         WM       Eisenba       Norm       Norm              70   \n",
      "\n",
      "    Gebauedetyp Wohnungsstil  Baujahr  Umbaujahr  Hausqualitaet  ...  \\\n",
      "Id                                                               ...   \n",
      "855        1Fam         2Sto     1933       2009              5  ...   \n",
      "\n",
      "     Garagenqualitaet Garagenzustand  EinfahrtGepflastert Sondermerkmal  \\\n",
      "Id                                                                        \n",
      "855       KeineGarage    KeineGarage                    J         Keine   \n",
      "\n",
      "    SondermerkmalWert Verkaufsmonat Verkaufsjahr  Verkaufstyp  \\\n",
      "Id                                                              \n",
      "855               0.0             3         2017         GarK   \n",
      "\n",
      "    Verkaufsbedingung Verkaufspreis  \n",
      "Id                                   \n",
      "855            Zuweis     128272.65  \n",
      "\n",
      "[1 rows x 79 columns]\n"
     ]
    }
   ],
   "source": [
    "# Anpassen und erneut ausführen des Codes zur Überprüfung der Bedingung\n",
    "sp = [\"Garagenautos\",\"Garagenflaeche\"]\n",
    "bedingung = data_neu[\"Garagenautos\"].isnull()\n",
    "anzahl_zeilen_mit_bedigung = data_neu[bedingung]\n",
    "print(anzahl_zeilen_mit_bedigung)"
   ]
  },
  {
   "cell_type": "code",
   "execution_count": 25,
   "id": "c54c6eb4-91f3-4b76-a783-ce597975a8e8",
   "metadata": {},
   "outputs": [],
   "source": [
    "# Ersetzen der fehlenden Werte in \"Garagenautos\" mit 0\n",
    "ersetze_fehlende_werte(data_neu, \"Garagenautos\", 0, file_path_neu)\n",
    "# Ersetzen der fehlenden Werte in \"Garagenflaeche\" mit 0\n",
    "ersetze_fehlende_werte(data_neu, \"Garagenflaeche\", 0, file_path_neu)"
   ]
  },
  {
   "cell_type": "code",
   "execution_count": 26,
   "id": "68f2f421-ea70-41c1-ac79-48f05c7e9df4",
   "metadata": {},
   "outputs": [
    {
     "name": "stdout",
     "output_type": "stream",
     "text": [
      "                  Anzahl Fehlende Werte\n",
      "Strassenlaenge                      338\n",
      "Wohngebiet                            3\n",
      "Versorgung                            2\n",
      "Funktionalitaet                       2\n",
      "KuechenQualitaet                      1\n",
      "Elektrik                              1\n",
      "Verkaufstyp                           1\n"
     ]
    }
   ],
   "source": [
    "berechne_und_zeige_fehlende_werte(data_neu)"
   ]
  },
  {
   "cell_type": "code",
   "execution_count": 27,
   "id": "8db34624-2b28-41a2-96ba-a4ae6d3de708",
   "metadata": {},
   "outputs": [
    {
     "name": "stdout",
     "output_type": "stream",
     "text": [
      "     Wohngebiet Nachbarschaft\n",
      "Id                           \n",
      "281         NaN        Hausen\n",
      "542         NaN       Eisenba\n",
      "1944        NaN       Eisenba\n"
     ]
    }
   ],
   "source": [
    "bedingung = data_neu['Wohngebiet'].isnull()\n",
    "spalten= ['Wohngebiet','Nachbarschaft']\n",
    "anzahl_zeilen_mit_bedingung = data_neu[bedingung][spalten]\n",
    "print(anzahl_zeilen_mit_bedingung)"
   ]
  },
  {
   "cell_type": "code",
   "execution_count": 28,
   "id": "e37bee30-a525-4571-8d44-9a6d75ed9f6c",
   "metadata": {},
   "outputs": [
    {
     "name": "stdout",
     "output_type": "stream",
     "text": [
      "    Wohngebiet Nachbarschaft Bedingung1 Bedingung2  Wohnungsklasse  \\\n",
      "Id                                                                   \n",
      "66          WN        Hausen       Haup       Norm              20   \n",
      "281        NaN        Hausen       Haup       Norm              20   \n",
      "\n",
      "    Gebauedetyp Wohnungsstil  Baujahr  Umbaujahr  Hausqualitaet  ...  \\\n",
      "Id                                                               ...   \n",
      "66         1Fam         1Sto     1964       1964              5  ...   \n",
      "281        1Fam         1Sto     1961       1961              1  ...   \n",
      "\n",
      "     Garagenqualitaet Garagenzustand  EinfahrtGepflastert Sondermerkmal  \\\n",
      "Id                                                                        \n",
      "66                 Du             Du                    N         Keine   \n",
      "281                Ar             Du                    N         Keine   \n",
      "\n",
      "    SondermerkmalWert Verkaufsmonat Verkaufsjahr  Verkaufstyp  \\\n",
      "Id                                                              \n",
      "66                0.0             2         2018         GarK   \n",
      "281               0.0             5         2016         GarK   \n",
      "\n",
      "    Verkaufsbedingung Verkaufspreis  \n",
      "Id                                   \n",
      "66             Normal       96050.0  \n",
      "281            Normal       69275.0  \n",
      "\n",
      "[2 rows x 79 columns]\n"
     ]
    }
   ],
   "source": [
    "# Korrekte Erstellung der Bedingung mit Klammern\n",
    "bedingung = (data_neu['Nachbarschaft'] == 'Hausen') & (data_neu['Bedingung1'] == 'Haup') & (data_neu['Bedingung2'] == 'Norm') \n",
    "# Auswahl der Spalten\n",
    "spalten = ['Wohngebiet', 'Nachbarschaft', 'Bedingung1','Bedingung2']\n",
    "# Anwendung der Bedingung auf das DataFrame und Auswahl der Spalten\n",
    "anzahl_zeilen_mit_bedingung = data_neu[bedingung].drop_duplicates(subset=['Wohngebiet','Bedingung1','Bedingung2'])\n",
    "# Ausgabe des Ergebnisses\n",
    "print(anzahl_zeilen_mit_bedingung)\n",
    "\n",
    "# Konnte keine Beziehung zwischen Wohngebiet und eine der anderen Spalten finden. \"Unbekannt\"\n",
    "# Id = 66 und Id = 281 -> Wohngebiet kann WN sein, da Bedingung1 und Bedingung2 ?????"
   ]
  },
  {
   "cell_type": "code",
   "execution_count": 29,
   "id": "778f0cd5-f9ff-4fe9-b210-acd05e8be825",
   "metadata": {},
   "outputs": [],
   "source": [
    "# Ersetzen der fehlenden Werte in \"Wohngebiet\" mit \"Unbekannt\"\n",
    "ersetze_fehlende_werte(data_neu, \"Wohngebiet\", \"Unbekannt\", file_path_neu)"
   ]
  },
  {
   "cell_type": "code",
   "execution_count": 30,
   "id": "0e238d0a-a73b-45e6-a51f-587fde3a2a2e",
   "metadata": {},
   "outputs": [
    {
     "name": "stdout",
     "output_type": "stream",
     "text": [
      "                  Anzahl Fehlende Werte\n",
      "Strassenlaenge                      338\n",
      "Versorgung                            2\n",
      "Funktionalitaet                       2\n",
      "KuechenQualitaet                      1\n",
      "Elektrik                              1\n",
      "Verkaufstyp                           1\n"
     ]
    }
   ],
   "source": [
    "berechne_und_zeige_fehlende_werte(data_neu)"
   ]
  },
  {
   "cell_type": "code",
   "execution_count": 31,
   "id": "e9aacfb5-96ed-47ca-b145-fa8dee770cde",
   "metadata": {},
   "outputs": [],
   "source": [
    "# Ersetzen der fehlenden Werte in \"Versorgung\" mit \"Unbekannt\"\n",
    "ersetze_fehlende_werte(data_neu, \"Versorgung\", \"Unbekannt\", file_path_neu)"
   ]
  },
  {
   "cell_type": "code",
   "execution_count": 32,
   "id": "4d7721f3-0936-49e9-8011-50d5ef6dc857",
   "metadata": {},
   "outputs": [
    {
     "name": "stdout",
     "output_type": "stream",
     "text": [
      "                  Anzahl Fehlende Werte\n",
      "Strassenlaenge                      338\n",
      "Funktionalitaet                       2\n",
      "KuechenQualitaet                      1\n",
      "Elektrik                              1\n",
      "Verkaufstyp                           1\n"
     ]
    }
   ],
   "source": [
    "berechne_und_zeige_fehlende_werte(data_neu)"
   ]
  },
  {
   "cell_type": "code",
   "execution_count": 33,
   "id": "8e9445ff-3bda-4189-afd0-4ad60b7cc2eb",
   "metadata": {},
   "outputs": [
    {
     "name": "stdout",
     "output_type": "stream",
     "text": [
      "     KuechenQualitaet  Kuechen\n",
      "Id                            \n",
      "1144              NaN        1\n"
     ]
    }
   ],
   "source": [
    "# Korrekte Erstellung der Bedingung mit Klammern\n",
    "bedingung = (data_neu['KuechenQualitaet'].isnull()) \n",
    "# Auswahl der Spalten\n",
    "spalten = ['KuechenQualitaet','Kuechen']\n",
    "# Anwendung der Bedingung auf das DataFrame und Auswahl der Spalten\n",
    "anzahl_zeilen_mit_bedingung = data_neu[bedingung][spalten]\n",
    "# Ausgabe des Ergebnisses\n",
    "print(anzahl_zeilen_mit_bedingung)"
   ]
  },
  {
   "cell_type": "code",
   "execution_count": 34,
   "id": "88b448c6-e6c1-42ee-bf3e-02674cc15168",
   "metadata": {},
   "outputs": [],
   "source": [
    "# Ersetzen der fehlenden Werte in \"KuechenQualitaet\",\"Elektrik\",\"Verkaufstyp\",\"Funktionalitaet\" mit \"Unbekannt\"\n",
    "ersetze_fehlende_werte(data_neu, \"KuechenQualitaet\", \"Unbekannt\", file_path_neu)\n",
    "ersetze_fehlende_werte(data_neu, \"Elektrik\", \"Unbekannt\", file_path_neu)\n",
    "ersetze_fehlende_werte(data_neu, \"Verkaufstyp\", \"Unbekannt\", file_path_neu)\n",
    "ersetze_fehlende_werte(data_neu, \"Funktionalitaet\", \"Unbekannt\", file_path_neu)"
   ]
  },
  {
   "cell_type": "code",
   "execution_count": 35,
   "id": "8c2f4abe-21f5-4707-8e49-ca7adcc47dcd",
   "metadata": {},
   "outputs": [
    {
     "name": "stdout",
     "output_type": "stream",
     "text": [
      "                Anzahl Fehlende Werte\n",
      "Strassenlaenge                    338\n"
     ]
    }
   ],
   "source": [
    "berechne_und_zeige_fehlende_werte(data_neu)"
   ]
  },
  {
   "cell_type": "code",
   "execution_count": 36,
   "id": "b2b811f6-013d-4e5e-b79e-4ced3bd1db75",
   "metadata": {},
   "outputs": [],
   "source": [
    "# Strassenlaenge mit Mittelwert auffüllen\n",
    "mittelwert_strassenlaenge = data_neu['Strassenlaenge'].mean()\n",
    "data_neu['Strassenlaenge'].fillna(mittelwert_strassenlaenge, inplace=True)"
   ]
  },
  {
   "cell_type": "code",
   "execution_count": 37,
   "id": "1b17b0bb-81fe-4a2a-be61-1a624495921a",
   "metadata": {},
   "outputs": [
    {
     "name": "stdout",
     "output_type": "stream",
     "text": [
      "Empty DataFrame\n",
      "Columns: [Anzahl Fehlende Werte]\n",
      "Index: []\n"
     ]
    }
   ],
   "source": [
    "berechne_und_zeige_fehlende_werte(data_neu)"
   ]
  },
  {
   "cell_type": "code",
   "execution_count": 38,
   "id": "14530a67-088a-4f36-98ce-6fbc366aa258",
   "metadata": {},
   "outputs": [],
   "source": [
    "# Speichern der bearbeiteten Daten zurück in die CSV-Datei\n",
    "data_neu.to_csv(\"train_bearbeitet.csv\")"
   ]
  },
  {
   "cell_type": "code",
   "execution_count": 1,
   "id": "9c24dea1-2101-4f1a-9164-bbda6ede5c2a",
   "metadata": {},
   "outputs": [],
   "source": [
    "import pandas as pd\n",
    "from sklearn.ensemble import RandomForestRegressor\n",
    "from sklearn.model_selection import train_test_split\n",
    "from sklearn.metrics import mean_squared_error\n",
    "from sklearn.metrics import mean_absolute_error\n",
    "from sklearn.metrics import r2_score\n",
    "from sklearn.metrics import mean_absolute_percentage_error\n",
    "\n",
    "\n",
    "df_train = pd.read_csv(\"train_bearbeitet.csv\", index_col = \"Id\")\n",
    "\n",
    "df_test = pd.read_csv(\"test.csv\", index_col = \"Id\")\n"
   ]
  },
  {
   "cell_type": "code",
   "execution_count": 2,
   "id": "9142eb36-62d5-45f9-8bb0-bea45e0504f4",
   "metadata": {},
   "outputs": [
    {
     "name": "stdout",
     "output_type": "stream",
     "text": [
      "Trainingsdaten:\n",
      "      Wohnungsklasse  Baujahr  Umbaujahr  Hausqualitaet  Hauszustand  \\\n",
      "Id                                                                     \n",
      "1                 20     1962       1962              3            3   \n",
      "2                 20     2015       2016              5            5   \n",
      "3                 50     1930       1960              6            5   \n",
      "4                 60     2009       2010              6            5   \n",
      "5                 70     1939       1960              8            7   \n",
      "...              ...      ...        ...            ...          ...   \n",
      "1996              20     1977       2014              5            7   \n",
      "1997              20     1987       1987              6            5   \n",
      "1998             120     2017       2018              9            5   \n",
      "1999              20     1971       1971              5            4   \n",
      "2000              20     1991       1991              6            7   \n",
      "\n",
      "      Grundstuecksgroesse  Strassenlaenge  Mauerwerkflaeche  \\\n",
      "Id                                                            \n",
      "1                  918.54       22.200000              0.00   \n",
      "2                  632.16       18.000000              0.00   \n",
      "3                 1960.20       19.800000              0.00   \n",
      "4                  868.41       17.700000              0.00   \n",
      "5                 1029.15       20.684477              0.00   \n",
      "...                   ...             ...               ...   \n",
      "1996               702.00       19.500000              8.01   \n",
      "1997               883.71       20.684477              0.00   \n",
      "1998               740.88       26.700000             64.26   \n",
      "1999               630.00       21.000000              0.00   \n",
      "2000              1129.14       20.684477             27.90   \n",
      "\n",
      "      Kellerbereichgroesse1  Kellerbereichgroesse2  ...  Verkaufstyp_VerAZ  \\\n",
      "Id                                                  ...                      \n",
      "1                      0.00                    0.0  ...                  0   \n",
      "2                     88.20                    0.0  ...                  0   \n",
      "3                      0.00                    0.0  ...                  0   \n",
      "4                      0.00                    0.0  ...                  0   \n",
      "5                      0.00                    0.0  ...                  0   \n",
      "...                     ...                    ...  ...                ...   \n",
      "1996                  40.50                    0.0  ...                  0   \n",
      "1997                 141.03                    0.0  ...                  0   \n",
      "1998                 108.36                    0.0  ...                  0   \n",
      "1999                  70.29                    0.0  ...                  0   \n",
      "2000                  61.02                    0.0  ...                  0   \n",
      "\n",
      "      Verkaufstyp_VerZ  Verkaufsbedingung_Abnormal  \\\n",
      "Id                                                   \n",
      "1                    0                           0   \n",
      "2                    0                           0   \n",
      "3                    0                           0   \n",
      "4                    0                           0   \n",
      "5                    0                           0   \n",
      "...                ...                         ...   \n",
      "1996                 0                           0   \n",
      "1997                 0                           0   \n",
      "1998                 0                           0   \n",
      "1999                 0                           0   \n",
      "2000                 0                           0   \n",
      "\n",
      "      Verkaufsbedingung_AngrLand  Verkaufsbedingung_Familie  \\\n",
      "Id                                                            \n",
      "1                              0                          0   \n",
      "2                              0                          0   \n",
      "3                              0                          0   \n",
      "4                              0                          0   \n",
      "5                              0                          0   \n",
      "...                          ...                        ...   \n",
      "1996                           0                          0   \n",
      "1997                           0                          0   \n",
      "1998                           0                          0   \n",
      "1999                           0                          0   \n",
      "2000                           0                          0   \n",
      "\n",
      "      Verkaufsbedingung_Normal  Verkaufsbedingung_Unfertig  \\\n",
      "Id                                                           \n",
      "1                            1                           0   \n",
      "2                            1                           0   \n",
      "3                            1                           0   \n",
      "4                            1                           0   \n",
      "5                            1                           0   \n",
      "...                        ...                         ...   \n",
      "1996                         1                           0   \n",
      "1997                         1                           0   \n",
      "1998                         0                           1   \n",
      "1999                         1                           0   \n",
      "2000                         1                           0   \n",
      "\n",
      "      Verkaufsbedingung_Zuweis  Zufahrtsweg_Pfla  Zufahrtsweg_Scho  \n",
      "Id                                                                  \n",
      "1                            0                 0                 0  \n",
      "2                            0                 0                 0  \n",
      "3                            0                 0                 0  \n",
      "4                            0                 0                 0  \n",
      "5                            0                 0                 0  \n",
      "...                        ...               ...               ...  \n",
      "1996                         0                 0                 0  \n",
      "1997                         0                 0                 0  \n",
      "1998                         0                 0                 0  \n",
      "1999                         0                 0                 0  \n",
      "2000                         0                 0                 0  \n",
      "\n",
      "[2000 rows x 315 columns]\n",
      "\n",
      "Testdaten:\n",
      "      Wohnungsklasse  Baujahr  Umbaujahr  Hausqualitaet  Hauszustand  \\\n",
      "Id                                                                     \n",
      "2001             120     1987       1987              7            6   \n",
      "2002             190     1920       2006              4            6   \n",
      "2003              50     1910       2008              4            8   \n",
      "2004              70     1920       2010              4            6   \n",
      "2005              20     1965       2003              5            5   \n",
      "...              ...      ...        ...            ...          ...   \n",
      "2915              20     1966       2004              6            6   \n",
      "2916              60     2003       2004              6            5   \n",
      "2917              85     1985       1991              5            5   \n",
      "2918              60     2016       2016              8            5   \n",
      "2919              20     2004       2004              5            5   \n",
      "\n",
      "      Grundstuecksgroesse  Strassenlaenge  Mauerwerkflaeche  \\\n",
      "Id                                                            \n",
      "2001               227.61             7.2               0.0   \n",
      "2002              1028.34            18.9               0.0   \n",
      "2003               630.72            18.0               0.0   \n",
      "2004               789.93            20.1               0.0   \n",
      "2005               963.72             0.0               0.0   \n",
      "...                   ...             ...               ...   \n",
      "2915               913.68            21.6               0.0   \n",
      "2916               763.20            15.0              10.8   \n",
      "2917              1498.23             0.0               0.0   \n",
      "2918               965.52            25.2               0.0   \n",
      "2919               789.75            19.5               0.0   \n",
      "\n",
      "      Kellerbereichgroesse1  Kellerbereichgroesse2  ...  Verkaufstyp_VerAZ  \\\n",
      "Id                                                  ...                      \n",
      "2001                  34.02                   0.00  ...                  0   \n",
      "2002                   0.00                   0.00  ...                  0   \n",
      "2003                   0.00                   0.00  ...                  0   \n",
      "2004                  15.57                  30.33  ...                  0   \n",
      "2005                  34.11                  69.12  ...                  0   \n",
      "...                     ...                    ...  ...                ...   \n",
      "2915                  82.26                   0.00  ...                  0   \n",
      "2916                  54.18                   0.00  ...                  0   \n",
      "2917                 125.10                   0.00  ...                  0   \n",
      "2918                   0.00                   0.00  ...                  0   \n",
      "2919                  44.55                   0.00  ...                  0   \n",
      "\n",
      "      Verkaufstyp_VerZ  Verkaufsbedingung_Abnormal  \\\n",
      "Id                                                   \n",
      "2001                 0                           0   \n",
      "2002                 0                           0   \n",
      "2003                 0                           0   \n",
      "2004                 0                           0   \n",
      "2005                 0                           0   \n",
      "...                ...                         ...   \n",
      "2915                 0                           0   \n",
      "2916                 0                           0   \n",
      "2917                 0                           0   \n",
      "2918                 0                           0   \n",
      "2919                 0                           0   \n",
      "\n",
      "      Verkaufsbedingung_AngrLand  Verkaufsbedingung_Familie  \\\n",
      "Id                                                            \n",
      "2001                           0                          0   \n",
      "2002                           0                          0   \n",
      "2003                           0                          0   \n",
      "2004                           0                          0   \n",
      "2005                           0                          0   \n",
      "...                          ...                        ...   \n",
      "2915                           0                          0   \n",
      "2916                           0                          0   \n",
      "2917                           0                          0   \n",
      "2918                           0                          0   \n",
      "2919                           0                          0   \n",
      "\n",
      "      Verkaufsbedingung_Normal  Verkaufsbedingung_Unfertig  \\\n",
      "Id                                                           \n",
      "2001                         1                           0   \n",
      "2002                         1                           0   \n",
      "2003                         1                           0   \n",
      "2004                         1                           0   \n",
      "2005                         1                           0   \n",
      "...                        ...                         ...   \n",
      "2915                         1                           0   \n",
      "2916                         1                           0   \n",
      "2917                         1                           0   \n",
      "2918                         0                           1   \n",
      "2919                         1                           0   \n",
      "\n",
      "      Verkaufsbedingung_Zuweis  Zufahrtsweg_Pfla  Zufahrtsweg_Scho  \n",
      "Id                                                                  \n",
      "2001                         0                 0                 0  \n",
      "2002                         0                 0                 1  \n",
      "2003                         0                 0                 0  \n",
      "2004                         0                 0                 0  \n",
      "2005                         0                 0                 0  \n",
      "...                        ...               ...               ...  \n",
      "2915                         0                 0                 0  \n",
      "2916                         0                 0                 0  \n",
      "2917                         0                 0                 0  \n",
      "2918                         0                 0                 0  \n",
      "2919                         0                 0                 0  \n",
      "\n",
      "[919 rows x 315 columns]\n"
     ]
    }
   ],
   "source": [
    "#Zusamenführen der DataFrames Training und Test, um zusammen zu encoden\n",
    "\n",
    "combined_data = pd.concat([df_train, df_test], axis=0)\n",
    "combined_encoded = pd.get_dummies(combined_data)\n",
    "\n",
    "\n",
    "# Daten wieder aufteilen\n",
    "train_encoded = combined_encoded.iloc[:len(df_train)]\n",
    "test_encoded = combined_encoded.iloc[len(df_train):]\n",
    "test_encoded = test_encoded.fillna(0) #NA Werte mit 0 auffüllen, um Modell trainieren zu können\n",
    "\n",
    "\n",
    "print(\"Trainingsdaten:\")\n",
    "print(train_encoded)\n",
    "\n",
    "print(\"\\nTestdaten:\")\n",
    "print(test_encoded)"
   ]
  },
  {
   "cell_type": "code",
   "execution_count": 3,
   "id": "2b30a451",
   "metadata": {},
   "outputs": [],
   "source": [
    "import random\n",
    "import numpy as np \n",
    "#seed setzen für reproduzierbarkeit\n",
    "\n",
    "random.seed(0)\n",
    "np.random.seed(0)"
   ]
  },
  {
   "cell_type": "code",
   "execution_count": 4,
   "id": "3c768ee0",
   "metadata": {},
   "outputs": [],
   "source": [
    "#TRAINING MIT KOMPLETTEM DATENSATZ\n",
    "# Aufteilung Trainings und Testdaten\n",
    "X_train = train_encoded.drop('Verkaufspreis', axis=1)\n",
    "y_train = train_encoded['Verkaufspreis']\n",
    "\n",
    "X_test = test_encoded.drop(\"Verkaufspreis\", axis=1)\n",
    "\n",
    "\n",
    "#Fitten des Modells\n",
    "rf_model = RandomForestRegressor(n_estimators=100, random_state=42)\n",
    "rf_model.fit(X_train, y_train)\n",
    "\n",
    "#Predicitons machen\n",
    "y_pred = rf_model.predict(X_test)"
   ]
  },
  {
   "cell_type": "code",
   "execution_count": 5,
   "id": "353dd059",
   "metadata": {},
   "outputs": [
    {
     "name": "stdout",
     "output_type": "stream",
     "text": [
      "       Id  Verkaufspreis\n",
      "0    2001    118646.7995\n",
      "1    2002     99725.7910\n",
      "2    2003     70291.6680\n",
      "3    2004    120069.4700\n",
      "4    2005    140074.8915\n",
      "..    ...            ...\n",
      "914  2915    124089.4090\n",
      "915  2916    162258.4720\n",
      "916  2917    164215.2400\n",
      "917  2918    220474.7850\n",
      "918  2919    116286.8000\n",
      "\n",
      "[919 rows x 2 columns]\n"
     ]
    }
   ],
   "source": [
    "#Dataframe erstellen mit predictions\n",
    "data = {\n",
    "    \"Id\": list(range(2001, 2920)),\n",
    "    \"Verkaufspreis\" : y_pred\n",
    "}\n",
    "df_ergebnis = pd.DataFrame(data)\n",
    "print(df_ergebnis)\n",
    "\n",
    "#Safe to predicitons.csv\n",
    "\n",
    "df_ergebnis.to_csv('prediction.csv', sep=',', header=True, index=False)"
   ]
  },
  {
   "cell_type": "code",
   "execution_count": 6,
   "id": "fd2ca337",
   "metadata": {},
   "outputs": [],
   "source": [
    "#TRAINING MIT 80% des train-Datensatzes um Modellgüte auf Trainingsdaten zu evaluieren,\n",
    "#weil wir die echten Verkaufspreise der Testdaten nicht kennen und somit die Modellgüte auf Testdaten nicht wissen\n",
    "X_train, X_test, y_train, y_test = train_test_split(train_encoded.drop(('Verkaufspreis'), axis=1), train_encoded['Verkaufspreis'], test_size=0.2, random_state=42)\n",
    "rf_model = RandomForestRegressor(n_estimators=100, random_state=42)\n",
    "rf_model.fit(X_train, y_train)\n",
    "\n",
    "# Vorhersagen auf den Testdaten\n",
    "y_pred = rf_model.predict(X_test)"
   ]
  },
  {
   "cell_type": "code",
   "execution_count": 7,
   "id": "75fa2c7b",
   "metadata": {},
   "outputs": [
    {
     "name": "stdout",
     "output_type": "stream",
     "text": [
      "Mean Squared Error: 368266347.8317526\n",
      "Root Mean Squared Error: 19190.26700782854\n",
      "Mean Absolute Error: 12872.326028750002\n",
      "R2 : 0.9124415050437944\n",
      "MAPE : 0.08112850657476832\n"
     ]
    }
   ],
   "source": [
    "# Bewertung des Modells auf den Trainings-Testdaten\n",
    "mse = mean_squared_error(y_test, y_pred) #Anfällig auf Außreiser\n",
    "print(f'Mean Squared Error: {mse}')\n",
    "rmse = mse**0.5 \n",
    "print(f'Root Mean Squared Error: {rmse}')\n",
    "mae = mean_absolute_error(y_test, y_pred) #Mittlerer Absoluter Fehler beträgt, 12872€ -> scheint relativ gering zu sein.\n",
    "print(f'Mean Absolute Error: {mae}')\n",
    "r2 = r2_score(y_test, y_pred)\n",
    "print(f'R2 : {r2}')\n",
    "mape = mean_absolute_percentage_error(y_test, y_pred)\n",
    "print(f'MAPE : {mape}')\n",
    "#Modell scheint ganz gut zu sein."
   ]
  },
  {
   "cell_type": "code",
   "execution_count": null,
   "id": "9f9572ec",
   "metadata": {},
   "outputs": [],
   "source": []
  }
 ],
 "metadata": {
  "kernelspec": {
   "display_name": "Python 3 (ipykernel)",
   "language": "python",
   "name": "python3"
  },
  "language_info": {
   "codemirror_mode": {
    "name": "ipython",
    "version": 3
   },
   "file_extension": ".py",
   "mimetype": "text/x-python",
   "name": "python",
   "nbconvert_exporter": "python",
   "pygments_lexer": "ipython3",
   "version": "3.12.0"
  }
 },
 "nbformat": 4,
 "nbformat_minor": 5
}
